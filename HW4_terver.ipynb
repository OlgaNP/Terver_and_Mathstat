{
 "cells": [
  {
   "cell_type": "markdown",
   "id": "ea96d894",
   "metadata": {},
   "source": [
    "1. Случайная непрерывная величина A имеет равномерное распределение на промежутке (200, 800].\n",
    "Найдите ее среднее значение и дисперсию.\n"
   ]
  },
  {
   "cell_type": "markdown",
   "id": "4f1c68ad",
   "metadata": {},
   "source": [
    "Среднее значение"
   ]
  },
  {
   "cell_type": "markdown",
   "id": "a287fe8e",
   "metadata": {},
   "source": [
    "M(A) = (a + b)/ 2 = (200+800)/2 = 500"
   ]
  },
  {
   "cell_type": "code",
   "execution_count": null,
   "id": "ce0c02f7",
   "metadata": {},
   "outputs": [],
   "source": [
    "Дисперсия"
   ]
  },
  {
   "cell_type": "markdown",
   "id": "dcbdb5f8",
   "metadata": {},
   "source": [
    "D(A) = (b - a)**2 / 12"
   ]
  },
  {
   "cell_type": "code",
   "execution_count": 1,
   "id": "29ec6a0d",
   "metadata": {},
   "outputs": [
    {
     "data": {
      "text/plain": [
       "30000.0"
      ]
     },
     "execution_count": 1,
     "metadata": {},
     "output_type": "execute_result"
    }
   ],
   "source": [
    "((800 - 200)**2)/12"
   ]
  },
  {
   "cell_type": "markdown",
   "id": "4ad6aae9",
   "metadata": {},
   "source": [
    "2. О случайной непрерывной равномерно распределенной величине B известно, что ее дисперсия равна 0.2.\n",
    "Можно ли найти правую границу величины B и ее среднее значение зная, что левая граница равна 0.5?\n",
    "Если да, найдите ее.\n"
   ]
  },
  {
   "cell_type": "markdown",
   "id": "38918a26",
   "metadata": {},
   "source": [
    "D(B) = (b - a)**2 / 12"
   ]
  },
  {
   "cell_type": "markdown",
   "id": "08ba014c",
   "metadata": {},
   "source": [
    "0.2 * 12 = (b - 0.5)**2"
   ]
  },
  {
   "cell_type": "code",
   "execution_count": 2,
   "id": "43185979",
   "metadata": {},
   "outputs": [
    {
     "data": {
      "text/plain": [
       "2.049193338482967"
      ]
     },
     "execution_count": 2,
     "metadata": {},
     "output_type": "execute_result"
    }
   ],
   "source": [
    "b = (0.2*12) ** 0.5 + 0.5\n",
    "b"
   ]
  },
  {
   "cell_type": "markdown",
   "id": "451632a3",
   "metadata": {},
   "source": [
    "M(B) = (0.5 + b) / 2\n"
   ]
  },
  {
   "cell_type": "code",
   "execution_count": 4,
   "id": "737d0801",
   "metadata": {},
   "outputs": [
    {
     "data": {
      "text/plain": [
       "1.2745966692414834"
      ]
     },
     "execution_count": 4,
     "metadata": {},
     "output_type": "execute_result"
    }
   ],
   "source": [
    "(0.5 + b) / 2"
   ]
  },
  {
   "cell_type": "markdown",
   "id": "b2c9e466",
   "metadata": {},
   "source": [
    "3. Непрерывная случайная величина X распределена нормально и задана плотностью распределения\n",
    "f(x) = (1 / (4 * sqrt(2*pi))) * (exp(-(x+2)**2) / 32).\n",
    "Найдите:\n",
    "а). M(X)\n",
    "б). D(X)\n",
    "в). std(X) (среднее квадратичное отклонение)\n"
   ]
  },
  {
   "cell_type": "code",
   "execution_count": null,
   "id": "f3424dc3",
   "metadata": {},
   "outputs": [],
   "source": [
    "M(X) = -2"
   ]
  },
  {
   "cell_type": "code",
   "execution_count": null,
   "id": "c054d2ed",
   "metadata": {},
   "outputs": [],
   "source": [
    "D(X) = 16"
   ]
  },
  {
   "cell_type": "code",
   "execution_count": null,
   "id": "f2904cb5",
   "metadata": {},
   "outputs": [],
   "source": [
    "std(X) = 4"
   ]
  },
  {
   "cell_type": "markdown",
   "id": "7daaeacb",
   "metadata": {},
   "source": [
    "4. Рост взрослого населения города X имеет нормальное распределение.\n",
    "Причем, средний рост равен 174 см, а среднее квадратичное отклонение равно 8 см.\n",
    "Какова вероятность того, что случайным образом выбранный взрослый человек имеет рост:\n",
    "а). больше 182 см\n",
    "б). больше 190 см\n",
    "в). от 166 см до 190 см\n",
    "г). от 166 см до 182 см\n",
    "д). от 158 см до 190 см\n",
    "е). не выше 150 см или не ниже 190 см\n",
    "ё). не выше 150 см или не ниже 198 см\n",
    "ж). ниже 166 см.\n"
   ]
  },
  {
   "cell_type": "code",
   "execution_count": null,
   "id": "2fec25ae",
   "metadata": {},
   "outputs": [],
   "source": [
    "M = 174\n",
    "std = 8\n",
    "z берем из таблиц накопленного нормального распределения"
   ]
  },
  {
   "cell_type": "markdown",
   "id": "f4d9428b",
   "metadata": {},
   "source": [
    "а). больше 182 см"
   ]
  },
  {
   "cell_type": "code",
   "execution_count": 5,
   "id": "177b8b81",
   "metadata": {},
   "outputs": [
    {
     "data": {
      "text/plain": [
       "1.0"
      ]
     },
     "execution_count": 5,
     "metadata": {},
     "output_type": "execute_result"
    }
   ],
   "source": [
    "z(182) = (182 -174)/ 8\n",
    "z"
   ]
  },
  {
   "cell_type": "markdown",
   "id": "19970a1e",
   "metadata": {},
   "source": [
    "P(>182) = 1 - 0.8413"
   ]
  },
  {
   "cell_type": "code",
   "execution_count": 8,
   "id": "65825a6c",
   "metadata": {},
   "outputs": [
    {
     "data": {
      "text/plain": [
       "0.15869999999999995"
      ]
     },
     "execution_count": 8,
     "metadata": {},
     "output_type": "execute_result"
    }
   ],
   "source": [
    "1 - 0.8413"
   ]
  },
  {
   "cell_type": "markdown",
   "id": "c3af2bf2",
   "metadata": {},
   "source": [
    "б). больше 190 см "
   ]
  },
  {
   "cell_type": "code",
   "execution_count": 6,
   "id": "8f2aeca7",
   "metadata": {},
   "outputs": [
    {
     "data": {
      "text/plain": [
       "2.0"
      ]
     },
     "execution_count": 6,
     "metadata": {},
     "output_type": "execute_result"
    }
   ],
   "source": [
    "z(190) = (190 -174)/ 8\n",
    "z"
   ]
  },
  {
   "cell_type": "markdown",
   "id": "99a850ce",
   "metadata": {},
   "source": [
    "P(>190) = 1 - 0.9772"
   ]
  },
  {
   "cell_type": "code",
   "execution_count": 9,
   "id": "0d0480a2",
   "metadata": {},
   "outputs": [
    {
     "data": {
      "text/plain": [
       "0.022800000000000042"
      ]
     },
     "execution_count": 9,
     "metadata": {},
     "output_type": "execute_result"
    }
   ],
   "source": [
    "1 - 0.9772"
   ]
  },
  {
   "cell_type": "code",
   "execution_count": null,
   "id": "6dc2a224",
   "metadata": {},
   "outputs": [],
   "source": [
    "в). от 166 см до 190 см"
   ]
  },
  {
   "cell_type": "code",
   "execution_count": null,
   "id": "51992383",
   "metadata": {},
   "outputs": [],
   "source": [
    "z(166) = (166 - 174)/ 8"
   ]
  },
  {
   "cell_type": "code",
   "execution_count": 10,
   "id": "d2edc3ae",
   "metadata": {},
   "outputs": [
    {
     "data": {
      "text/plain": [
       "-1.0"
      ]
     },
     "execution_count": 10,
     "metadata": {},
     "output_type": "execute_result"
    }
   ],
   "source": [
    "(166 - 174)/ 8"
   ]
  },
  {
   "cell_type": "code",
   "execution_count": null,
   "id": "8a4c40f4",
   "metadata": {},
   "outputs": [],
   "source": [
    "P(166) = 0.1587"
   ]
  },
  {
   "cell_type": "code",
   "execution_count": 11,
   "id": "9c31fb68",
   "metadata": {},
   "outputs": [
    {
     "data": {
      "text/plain": [
       "2.0"
      ]
     },
     "execution_count": 11,
     "metadata": {},
     "output_type": "execute_result"
    }
   ],
   "source": [
    "P(190) = 0.9772"
   ]
  },
  {
   "cell_type": "code",
   "execution_count": null,
   "id": "6bd55300",
   "metadata": {},
   "outputs": [],
   "source": [
    "P(166 < x < 190) = 0.9772 - 0.1587"
   ]
  },
  {
   "cell_type": "code",
   "execution_count": 12,
   "id": "c1358feb",
   "metadata": {},
   "outputs": [
    {
     "data": {
      "text/plain": [
       "0.8185"
      ]
     },
     "execution_count": 12,
     "metadata": {},
     "output_type": "execute_result"
    }
   ],
   "source": [
    "0.9772 - 0.1587"
   ]
  },
  {
   "cell_type": "markdown",
   "id": "7daf4e42",
   "metadata": {},
   "source": [
    "г). от 166 см до 182 см "
   ]
  },
  {
   "cell_type": "code",
   "execution_count": null,
   "id": "83410f29",
   "metadata": {},
   "outputs": [],
   "source": [
    "P(166) = 0.1587"
   ]
  },
  {
   "cell_type": "code",
   "execution_count": null,
   "id": "e0a3c1a0",
   "metadata": {},
   "outputs": [],
   "source": [
    "P(182) = 0.8413"
   ]
  },
  {
   "cell_type": "code",
   "execution_count": 13,
   "id": "525db60c",
   "metadata": {},
   "outputs": [
    {
     "data": {
      "text/plain": [
       "1.0"
      ]
     },
     "execution_count": 13,
     "metadata": {},
     "output_type": "execute_result"
    }
   ],
   "source": [
    "P(166<x<182) = 0.8413 - 0.1587"
   ]
  },
  {
   "cell_type": "code",
   "execution_count": 14,
   "id": "6057e5d7",
   "metadata": {},
   "outputs": [
    {
     "data": {
      "text/plain": [
       "0.6826000000000001"
      ]
     },
     "execution_count": 14,
     "metadata": {},
     "output_type": "execute_result"
    }
   ],
   "source": [
    "0.8413 - 0.1587"
   ]
  },
  {
   "cell_type": "code",
   "execution_count": null,
   "id": "143a86ec",
   "metadata": {},
   "outputs": [],
   "source": [
    "д). от 158 см до 190 см "
   ]
  },
  {
   "cell_type": "code",
   "execution_count": 15,
   "id": "f1873c0f",
   "metadata": {},
   "outputs": [
    {
     "data": {
      "text/plain": [
       "-2.0"
      ]
     },
     "execution_count": 15,
     "metadata": {},
     "output_type": "execute_result"
    }
   ],
   "source": [
    "z(158) = (158-174)/ 8\n",
    "z"
   ]
  },
  {
   "cell_type": "code",
   "execution_count": null,
   "id": "3ce2c8f7",
   "metadata": {},
   "outputs": [],
   "source": [
    "P(158)= 0.0228"
   ]
  },
  {
   "cell_type": "code",
   "execution_count": null,
   "id": "14ac57da",
   "metadata": {},
   "outputs": [],
   "source": [
    "P(190) = 0.9772"
   ]
  },
  {
   "cell_type": "code",
   "execution_count": null,
   "id": "4f491382",
   "metadata": {},
   "outputs": [],
   "source": [
    "P(158<x<190) = 0.9772 - 0.0228"
   ]
  },
  {
   "cell_type": "code",
   "execution_count": 16,
   "id": "fbd5926f",
   "metadata": {},
   "outputs": [
    {
     "data": {
      "text/plain": [
       "0.9543999999999999"
      ]
     },
     "execution_count": 16,
     "metadata": {},
     "output_type": "execute_result"
    }
   ],
   "source": [
    "0.9772 - 0.0228"
   ]
  },
  {
   "cell_type": "code",
   "execution_count": null,
   "id": "a4799925",
   "metadata": {},
   "outputs": [],
   "source": [
    "е). не выше 150 см или не ниже 190 см"
   ]
  },
  {
   "cell_type": "code",
   "execution_count": 17,
   "id": "4d4304b0",
   "metadata": {},
   "outputs": [
    {
     "data": {
      "text/plain": [
       "-3.0"
      ]
     },
     "execution_count": 17,
     "metadata": {},
     "output_type": "execute_result"
    }
   ],
   "source": [
    "z = (150-174)/ 8\n",
    "z"
   ]
  },
  {
   "cell_type": "code",
   "execution_count": null,
   "id": "0c10ca55",
   "metadata": {},
   "outputs": [],
   "source": [
    "P(150) = 0.0014"
   ]
  },
  {
   "cell_type": "code",
   "execution_count": null,
   "id": "e4bb3962",
   "metadata": {},
   "outputs": [],
   "source": [
    "P(190) = 0.9772"
   ]
  },
  {
   "cell_type": "code",
   "execution_count": null,
   "id": "c93e5f30",
   "metadata": {},
   "outputs": [],
   "source": [
    "P(<150)&P(>190) = 0.0014 + 1 - 0.9772"
   ]
  },
  {
   "cell_type": "code",
   "execution_count": 18,
   "id": "188b3292",
   "metadata": {},
   "outputs": [
    {
     "data": {
      "text/plain": [
       "0.02420000000000011"
      ]
     },
     "execution_count": 18,
     "metadata": {},
     "output_type": "execute_result"
    }
   ],
   "source": [
    "0.0014 + 1 - 0.9772"
   ]
  },
  {
   "cell_type": "code",
   "execution_count": null,
   "id": "e6363c1c",
   "metadata": {},
   "outputs": [],
   "source": [
    "ё). не выше 150 см или не ниже 198 см"
   ]
  },
  {
   "cell_type": "code",
   "execution_count": null,
   "id": "f2153b79",
   "metadata": {},
   "outputs": [],
   "source": [
    "P(150) = 0.0014"
   ]
  },
  {
   "cell_type": "code",
   "execution_count": 19,
   "id": "151714b7",
   "metadata": {},
   "outputs": [
    {
     "data": {
      "text/plain": [
       "3.0"
      ]
     },
     "execution_count": 19,
     "metadata": {},
     "output_type": "execute_result"
    }
   ],
   "source": [
    "z(198) = (198-174)/ 8\n",
    "z"
   ]
  },
  {
   "cell_type": "code",
   "execution_count": null,
   "id": "8a0c136c",
   "metadata": {},
   "outputs": [],
   "source": [
    "P(198) = 0.9986"
   ]
  },
  {
   "cell_type": "code",
   "execution_count": null,
   "id": "cab45f30",
   "metadata": {},
   "outputs": [],
   "source": [
    "P(<150)&P(>198) = 0.0014 + 1 - 0.9986"
   ]
  },
  {
   "cell_type": "code",
   "execution_count": 20,
   "id": "338ed90a",
   "metadata": {},
   "outputs": [
    {
     "data": {
      "text/plain": [
       "0.0028000000000000247"
      ]
     },
     "execution_count": 20,
     "metadata": {},
     "output_type": "execute_result"
    }
   ],
   "source": [
    "0.0014 + 1 - 0.9986"
   ]
  },
  {
   "cell_type": "code",
   "execution_count": null,
   "id": "c9bb693f",
   "metadata": {},
   "outputs": [],
   "source": [
    "ж). ниже 166 см."
   ]
  },
  {
   "cell_type": "code",
   "execution_count": null,
   "id": "f6eebdbd",
   "metadata": {},
   "outputs": [],
   "source": [
    "P(166) = 0.1587"
   ]
  },
  {
   "cell_type": "code",
   "execution_count": null,
   "id": "5b070458",
   "metadata": {},
   "outputs": [],
   "source": []
  },
  {
   "cell_type": "markdown",
   "id": "c393ea18",
   "metadata": {},
   "source": [
    "5. На сколько сигм (средних квадратичных отклонений) отклоняется рост человека, равный 190 см, от\n",
    "математического ожидания роста в популяции, в которой M(X) = 178 см и D(X) = 25 кв.см?\n"
   ]
  },
  {
   "cell_type": "code",
   "execution_count": null,
   "id": "0348f6c9",
   "metadata": {},
   "outputs": [],
   "source": [
    "sigm = 5"
   ]
  },
  {
   "cell_type": "code",
   "execution_count": 21,
   "id": "f52bdea5",
   "metadata": {},
   "outputs": [
    {
     "data": {
      "text/plain": [
       "2.4"
      ]
     },
     "execution_count": 21,
     "metadata": {},
     "output_type": "execute_result"
    }
   ],
   "source": [
    "(190-178)/5"
   ]
  },
  {
   "cell_type": "code",
   "execution_count": null,
   "id": "b979750c",
   "metadata": {},
   "outputs": [],
   "source": []
  }
 ],
 "metadata": {
  "kernelspec": {
   "display_name": "Python 3 (ipykernel)",
   "language": "python",
   "name": "python3"
  },
  "language_info": {
   "codemirror_mode": {
    "name": "ipython",
    "version": 3
   },
   "file_extension": ".py",
   "mimetype": "text/x-python",
   "name": "python",
   "nbconvert_exporter": "python",
   "pygments_lexer": "ipython3",
   "version": "3.9.7"
  }
 },
 "nbformat": 4,
 "nbformat_minor": 5
}
