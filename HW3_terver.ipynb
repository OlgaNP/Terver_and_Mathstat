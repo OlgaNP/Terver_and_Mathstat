{
 "cells": [
  {
   "cell_type": "markdown",
   "id": "e1b32e37",
   "metadata": {},
   "source": [
    "Задача 1\n",
    "Даны значения зарплат из выборки выпускников:\n"
   ]
  },
  {
   "cell_type": "code",
   "execution_count": 4,
   "id": "8c0a5f86",
   "metadata": {},
   "outputs": [],
   "source": [
    "salary =[100, 80, 75, 77, 89, 33, 45, 25, 65, 17, 30, 230, 24, 57, 55, 70, 75, 65, 84, 90, 150]"
   ]
  },
  {
   "cell_type": "markdown",
   "id": "363a96b8",
   "metadata": {},
   "source": [
    "Используя только встроенные питоновские функции и структуры данных (т.е. без библиотек numpy, pandas и др.), посчитайте (несмещённое) среднее квадратичное отклонение для данной выборки."
   ]
  },
  {
   "cell_type": "code",
   "execution_count": 6,
   "id": "84f7579f",
   "metadata": {},
   "outputs": [
    {
     "data": {
      "text/plain": [
       "73.14285714285714"
      ]
     },
     "execution_count": 6,
     "metadata": {},
     "output_type": "execute_result"
    }
   ],
   "source": [
    "mean_salary = (sum(el for el in salary))/len(salary)\n",
    "mean_salary"
   ]
  },
  {
   "cell_type": "markdown",
   "id": "ba95fe09",
   "metadata": {},
   "source": [
    "Считаем по формуле среднее квадратичное отклонение"
   ]
  },
  {
   "cell_type": "code",
   "execution_count": 18,
   "id": "b026bd16",
   "metadata": {},
   "outputs": [
    {
     "data": {
      "text/plain": [
       "47.34795214"
      ]
     },
     "execution_count": 18,
     "metadata": {},
     "output_type": "execute_result"
    }
   ],
   "source": [
    "sigma = round((1/(len(salary)-1)*(sum([(el - mean_salary)**2 for el in salary])))**0.5,8)\n",
    "sigma"
   ]
  },
  {
   "cell_type": "markdown",
   "id": "4aa96c72",
   "metadata": {},
   "source": [
    "Задача 2\n",
    "Найдите число выбросов в выборке из задачи 1. Для определения выбросов используйте методику как при построении “усов” в boxplot, однако, как и в задаче 1, пользоваться можно только встроенными функциями и структурами данных."
   ]
  },
  {
   "cell_type": "code",
   "execution_count": 23,
   "id": "09c29120",
   "metadata": {},
   "outputs": [],
   "source": [
    "sorted_salary = sorted(salary)\n"
   ]
  },
  {
   "cell_type": "code",
   "execution_count": 20,
   "id": "997f9883",
   "metadata": {},
   "outputs": [
    {
     "data": {
      "text/plain": [
       "21"
      ]
     },
     "execution_count": 20,
     "metadata": {},
     "output_type": "execute_result"
    }
   ],
   "source": [
    "len(sorted_salary)"
   ]
  },
  {
   "cell_type": "code",
   "execution_count": 21,
   "id": "2d44949f",
   "metadata": {},
   "outputs": [
    {
     "data": {
      "text/plain": [
       "45"
      ]
     },
     "execution_count": 21,
     "metadata": {},
     "output_type": "execute_result"
    }
   ],
   "source": [
    "q1 = sorted_salary[len(sorted_salary)//4]\n",
    "q1"
   ]
  },
  {
   "cell_type": "code",
   "execution_count": 22,
   "id": "00067021",
   "metadata": {},
   "outputs": [
    {
     "data": {
      "text/plain": [
       "84"
      ]
     },
     "execution_count": 22,
     "metadata": {},
     "output_type": "execute_result"
    }
   ],
   "source": [
    "q3 = sorted_salary[3 * len(sorted_salary)//4]\n",
    "q3"
   ]
  },
  {
   "cell_type": "code",
   "execution_count": 25,
   "id": "2d7702e4",
   "metadata": {},
   "outputs": [
    {
     "name": "stdout",
     "output_type": "stream",
     "text": [
      "Число выбросов: 2\n"
     ]
    }
   ],
   "source": [
    "vybros = 0\n",
    "for el in sorted_salary:\n",
    "    if el < (q1 - 1.5 * (q3-q1)) or el > (q3 + 1.5 * (q3-q1)):\n",
    "        vybros += 1\n",
    "print(f'Число выбросов: {vybros}')"
   ]
  },
  {
   "cell_type": "markdown",
   "id": "891fd495",
   "metadata": {},
   "source": [
    "Задача 3\n",
    "В университет на факультет A поступило 100 человек, на факультет B - 90 человек и на факультет C - 45 человек. Вероятность того, что студент с факультета A сдаст первую сессию, равна 0.6. Для студента с факультета B эта вероятность равна 0.7, а для студента с факультета C - 0.8. Случайным образом выбирается студент, сдавший первую сессию\n",
    "Какое событие наиболее вероятно:\n",
    "студент учится на факультете A,\n",
    "студент учится на факультете B,\n",
    "студент учится на факультете C?\n"
   ]
  },
  {
   "cell_type": "code",
   "execution_count": null,
   "id": "304c9ca9",
   "metadata": {},
   "outputs": [],
   "source": [
    "Общая вероятность, что студент сдал сессию"
   ]
  },
  {
   "cell_type": "code",
   "execution_count": 27,
   "id": "68ed2248",
   "metadata": {},
   "outputs": [
    {
     "data": {
      "text/plain": [
       "0.676595744680851"
      ]
     },
     "execution_count": 27,
     "metadata": {},
     "output_type": "execute_result"
    }
   ],
   "source": [
    "P = 0.6 * 100 / (100 + 90 + 45) + 0.7 * 90 / (100 + 90 + 45)+ 0.8 * 45 / (100 + 90 + 45)\n",
    "P"
   ]
  },
  {
   "cell_type": "code",
   "execution_count": 37,
   "id": "64dcf09a",
   "metadata": {},
   "outputs": [
    {
     "data": {
      "text/plain": [
       "0.3773584905660377"
      ]
     },
     "execution_count": 37,
     "metadata": {},
     "output_type": "execute_result"
    }
   ],
   "source": [
    "P_A = 100 / (100 + 90 + 45) * 0.6 / P\n",
    "P_A"
   ]
  },
  {
   "cell_type": "code",
   "execution_count": 38,
   "id": "870fb8d9",
   "metadata": {},
   "outputs": [
    {
     "data": {
      "text/plain": [
       "0.39622641509433965"
      ]
     },
     "execution_count": 38,
     "metadata": {},
     "output_type": "execute_result"
    }
   ],
   "source": [
    "P_B = 90 / (100 + 90 + 45) * 0.7 / P\n",
    "P_B"
   ]
  },
  {
   "cell_type": "code",
   "execution_count": 36,
   "id": "23652f46",
   "metadata": {},
   "outputs": [
    {
     "data": {
      "text/plain": [
       "0.22641509433962265"
      ]
     },
     "execution_count": 36,
     "metadata": {},
     "output_type": "execute_result"
    }
   ],
   "source": [
    "P_C = 45 / (100 + 90 + 45) * 0.8 / P\n",
    "P_C"
   ]
  },
  {
   "cell_type": "code",
   "execution_count": 39,
   "id": "d345a4e8",
   "metadata": {},
   "outputs": [
    {
     "data": {
      "text/plain": [
       "1.0"
      ]
     },
     "execution_count": 39,
     "metadata": {},
     "output_type": "execute_result"
    }
   ],
   "source": [
    "Наиболее вероятно событие B"
   ]
  },
  {
   "cell_type": "code",
   "execution_count": null,
   "id": "76aa01f4",
   "metadata": {},
   "outputs": [],
   "source": []
  }
 ],
 "metadata": {
  "kernelspec": {
   "display_name": "Python 3 (ipykernel)",
   "language": "python",
   "name": "python3"
  },
  "language_info": {
   "codemirror_mode": {
    "name": "ipython",
    "version": 3
   },
   "file_extension": ".py",
   "mimetype": "text/x-python",
   "name": "python",
   "nbconvert_exporter": "python",
   "pygments_lexer": "ipython3",
   "version": "3.9.7"
  }
 },
 "nbformat": 4,
 "nbformat_minor": 5
}
