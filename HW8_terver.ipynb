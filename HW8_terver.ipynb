{
 "cells": [
  {
   "cell_type": "markdown",
   "id": "40b5fe33",
   "metadata": {},
   "source": [
    "Задача 1"
   ]
  },
  {
   "cell_type": "markdown",
   "id": "2d46257a",
   "metadata": {},
   "source": [
    "Используя данные о хоккеистах (скачать можно здесь), проверьте, является ли среди хоккеистов из Финляндии, Норвегии и Дании значимым отличие: а) роста, б) BMI."
   ]
  },
  {
   "cell_type": "code",
   "execution_count": 1,
   "id": "d2377d4b",
   "metadata": {},
   "outputs": [],
   "source": [
    "import pandas as pd\n",
    "import numpy as np\n",
    "import scipy.stats as stats"
   ]
  },
  {
   "cell_type": "code",
   "execution_count": 9,
   "id": "f701019d",
   "metadata": {},
   "outputs": [
    {
     "data": {
      "text/html": [
       "<div>\n",
       "<style scoped>\n",
       "    .dataframe tbody tr th:only-of-type {\n",
       "        vertical-align: middle;\n",
       "    }\n",
       "\n",
       "    .dataframe tbody tr th {\n",
       "        vertical-align: top;\n",
       "    }\n",
       "\n",
       "    .dataframe thead th {\n",
       "        text-align: right;\n",
       "    }\n",
       "</style>\n",
       "<table border=\"1\" class=\"dataframe\">\n",
       "  <thead>\n",
       "    <tr style=\"text-align: right;\">\n",
       "      <th></th>\n",
       "      <th>year</th>\n",
       "      <th>country</th>\n",
       "      <th>no</th>\n",
       "      <th>name</th>\n",
       "      <th>position</th>\n",
       "      <th>side</th>\n",
       "      <th>height</th>\n",
       "      <th>weight</th>\n",
       "      <th>birth</th>\n",
       "      <th>club</th>\n",
       "      <th>age</th>\n",
       "      <th>cohort</th>\n",
       "      <th>bmi</th>\n",
       "    </tr>\n",
       "  </thead>\n",
       "  <tbody>\n",
       "    <tr>\n",
       "      <th>0</th>\n",
       "      <td>2001</td>\n",
       "      <td>RUS</td>\n",
       "      <td>10</td>\n",
       "      <td>tverdovsky oleg</td>\n",
       "      <td>D</td>\n",
       "      <td>L</td>\n",
       "      <td>185</td>\n",
       "      <td>84.0</td>\n",
       "      <td>1976-05-18</td>\n",
       "      <td>anaheim mighty ducks</td>\n",
       "      <td>24.952772</td>\n",
       "      <td>1976</td>\n",
       "      <td>24.543462</td>\n",
       "    </tr>\n",
       "    <tr>\n",
       "      <th>1</th>\n",
       "      <td>2001</td>\n",
       "      <td>RUS</td>\n",
       "      <td>2</td>\n",
       "      <td>vichnevsky vitali</td>\n",
       "      <td>D</td>\n",
       "      <td>L</td>\n",
       "      <td>188</td>\n",
       "      <td>86.0</td>\n",
       "      <td>1980-03-18</td>\n",
       "      <td>anaheim mighty ducks</td>\n",
       "      <td>21.119781</td>\n",
       "      <td>1980</td>\n",
       "      <td>24.332277</td>\n",
       "    </tr>\n",
       "    <tr>\n",
       "      <th>2</th>\n",
       "      <td>2001</td>\n",
       "      <td>RUS</td>\n",
       "      <td>26</td>\n",
       "      <td>petrochinin evgeni</td>\n",
       "      <td>D</td>\n",
       "      <td>L</td>\n",
       "      <td>182</td>\n",
       "      <td>95.0</td>\n",
       "      <td>1976-02-07</td>\n",
       "      <td>severstal cherepovetal</td>\n",
       "      <td>25.229295</td>\n",
       "      <td>1976</td>\n",
       "      <td>28.680111</td>\n",
       "    </tr>\n",
       "    <tr>\n",
       "      <th>3</th>\n",
       "      <td>2001</td>\n",
       "      <td>RUS</td>\n",
       "      <td>28</td>\n",
       "      <td>zhdan alexander</td>\n",
       "      <td>D</td>\n",
       "      <td>R</td>\n",
       "      <td>178</td>\n",
       "      <td>85.0</td>\n",
       "      <td>1971-08-28</td>\n",
       "      <td>ak bars kazan</td>\n",
       "      <td>29.675565</td>\n",
       "      <td>1971</td>\n",
       "      <td>26.827421</td>\n",
       "    </tr>\n",
       "    <tr>\n",
       "      <th>4</th>\n",
       "      <td>2001</td>\n",
       "      <td>RUS</td>\n",
       "      <td>32</td>\n",
       "      <td>orekhovsky oleg</td>\n",
       "      <td>D</td>\n",
       "      <td>R</td>\n",
       "      <td>175</td>\n",
       "      <td>88.0</td>\n",
       "      <td>1977-11-03</td>\n",
       "      <td>dynamo moscow</td>\n",
       "      <td>23.490760</td>\n",
       "      <td>1977</td>\n",
       "      <td>28.734694</td>\n",
       "    </tr>\n",
       "    <tr>\n",
       "      <th>...</th>\n",
       "      <td>...</td>\n",
       "      <td>...</td>\n",
       "      <td>...</td>\n",
       "      <td>...</td>\n",
       "      <td>...</td>\n",
       "      <td>...</td>\n",
       "      <td>...</td>\n",
       "      <td>...</td>\n",
       "      <td>...</td>\n",
       "      <td>...</td>\n",
       "      <td>...</td>\n",
       "      <td>...</td>\n",
       "      <td>...</td>\n",
       "    </tr>\n",
       "    <tr>\n",
       "      <th>6287</th>\n",
       "      <td>2016</td>\n",
       "      <td>USA</td>\n",
       "      <td>71</td>\n",
       "      <td>foligno nick</td>\n",
       "      <td>F</td>\n",
       "      <td>L</td>\n",
       "      <td>183</td>\n",
       "      <td>95.0</td>\n",
       "      <td>1987-10-31</td>\n",
       "      <td>columbus blue jackets</td>\n",
       "      <td>28.501027</td>\n",
       "      <td>1987</td>\n",
       "      <td>28.367524</td>\n",
       "    </tr>\n",
       "    <tr>\n",
       "      <th>6288</th>\n",
       "      <td>2016</td>\n",
       "      <td>USA</td>\n",
       "      <td>72</td>\n",
       "      <td>vatrano frank</td>\n",
       "      <td>F</td>\n",
       "      <td>L</td>\n",
       "      <td>178</td>\n",
       "      <td>98.0</td>\n",
       "      <td>1994-03-14</td>\n",
       "      <td>boston bruins</td>\n",
       "      <td>22.132786</td>\n",
       "      <td>1994</td>\n",
       "      <td>30.930438</td>\n",
       "    </tr>\n",
       "    <tr>\n",
       "      <th>6289</th>\n",
       "      <td>2016</td>\n",
       "      <td>USA</td>\n",
       "      <td>1</td>\n",
       "      <td>kinkaid keith</td>\n",
       "      <td>G</td>\n",
       "      <td>L</td>\n",
       "      <td>191</td>\n",
       "      <td>88.0</td>\n",
       "      <td>1989-07-04</td>\n",
       "      <td>new jersey devils</td>\n",
       "      <td>26.825462</td>\n",
       "      <td>1989</td>\n",
       "      <td>24.122146</td>\n",
       "    </tr>\n",
       "    <tr>\n",
       "      <th>6290</th>\n",
       "      <td>2016</td>\n",
       "      <td>USA</td>\n",
       "      <td>30</td>\n",
       "      <td>condon mike</td>\n",
       "      <td>G</td>\n",
       "      <td>L</td>\n",
       "      <td>188</td>\n",
       "      <td>89.0</td>\n",
       "      <td>1990-04-27</td>\n",
       "      <td>montreal canadiens</td>\n",
       "      <td>26.012320</td>\n",
       "      <td>1990</td>\n",
       "      <td>25.181077</td>\n",
       "    </tr>\n",
       "    <tr>\n",
       "      <th>6291</th>\n",
       "      <td>2016</td>\n",
       "      <td>USA</td>\n",
       "      <td>31</td>\n",
       "      <td>demko thatcher</td>\n",
       "      <td>G</td>\n",
       "      <td>L</td>\n",
       "      <td>193</td>\n",
       "      <td>95.0</td>\n",
       "      <td>1995-12-08</td>\n",
       "      <td>boston college</td>\n",
       "      <td>20.396988</td>\n",
       "      <td>1995</td>\n",
       "      <td>25.504040</td>\n",
       "    </tr>\n",
       "  </tbody>\n",
       "</table>\n",
       "<p>6292 rows × 13 columns</p>\n",
       "</div>"
      ],
      "text/plain": [
       "      year country  no                 name position side  height  weight  \\\n",
       "0     2001     RUS  10     tverdovsky oleg         D    L     185    84.0   \n",
       "1     2001     RUS   2   vichnevsky vitali         D    L     188    86.0   \n",
       "2     2001     RUS  26  petrochinin evgeni         D    L     182    95.0   \n",
       "3     2001     RUS  28     zhdan alexander         D    R     178    85.0   \n",
       "4     2001     RUS  32     orekhovsky oleg         D    R     175    88.0   \n",
       "...    ...     ...  ..                  ...      ...  ...     ...     ...   \n",
       "6287  2016     USA  71         foligno nick        F    L     183    95.0   \n",
       "6288  2016     USA  72        vatrano frank        F    L     178    98.0   \n",
       "6289  2016     USA   1        kinkaid keith        G    L     191    88.0   \n",
       "6290  2016     USA  30          condon mike        G    L     188    89.0   \n",
       "6291  2016     USA  31       demko thatcher        G    L     193    95.0   \n",
       "\n",
       "           birth                     club        age  cohort        bmi  \n",
       "0     1976-05-18    anaheim mighty ducks   24.952772    1976  24.543462  \n",
       "1     1980-03-18    anaheim mighty ducks   21.119781    1980  24.332277  \n",
       "2     1976-02-07  severstal cherepovetal   25.229295    1976  28.680111  \n",
       "3     1971-08-28           ak bars kazan   29.675565    1971  26.827421  \n",
       "4     1977-11-03           dynamo moscow   23.490760    1977  28.734694  \n",
       "...          ...                      ...        ...     ...        ...  \n",
       "6287  1987-10-31    columbus blue jackets  28.501027    1987  28.367524  \n",
       "6288  1994-03-14            boston bruins  22.132786    1994  30.930438  \n",
       "6289  1989-07-04        new jersey devils  26.825462    1989  24.122146  \n",
       "6290  1990-04-27       montreal canadiens  26.012320    1990  25.181077  \n",
       "6291  1995-12-08           boston college  20.396988    1995  25.504040  \n",
       "\n",
       "[6292 rows x 13 columns]"
      ]
     },
     "execution_count": 9,
     "metadata": {},
     "output_type": "execute_result"
    }
   ],
   "source": [
    "df = pd.read_csv('/Users/olgapodosenova/Downloads/hockey_players.csv', encoding = 'ISO-8859-1')\n",
    "df"
   ]
  },
  {
   "cell_type": "code",
   "execution_count": 10,
   "id": "6c89013e",
   "metadata": {},
   "outputs": [],
   "source": [
    "y1 = df[df[\"country\"] == \"FIN\"][\"height\"]\n",
    "y2 = df[df[\"country\"] == \"NOR\"][\"height\"]\n",
    "y3 = df[df[\"country\"] == \"DEN\"][\"height\"]"
   ]
  },
  {
   "cell_type": "code",
   "execution_count": 11,
   "id": "ab756976",
   "metadata": {},
   "outputs": [
    {
     "data": {
      "text/plain": [
       "F_onewayResult(statistic=4.273207343917114, pvalue=0.014186614738624594)"
      ]
     },
     "execution_count": 11,
     "metadata": {},
     "output_type": "execute_result"
    }
   ],
   "source": [
    "stats.f_oneway(y1, y2, y3)"
   ]
  },
  {
   "cell_type": "code",
   "execution_count": 12,
   "id": "67efea6c",
   "metadata": {},
   "outputs": [],
   "source": [
    "n1 = y1.shape[0]\n",
    "n2 = y2.shape[0]\n",
    "n3 = y3.shape[0]"
   ]
  },
  {
   "cell_type": "code",
   "execution_count": 13,
   "id": "d8eeca24",
   "metadata": {},
   "outputs": [],
   "source": [
    "y1_mean = y1.mean()\n",
    "y2_mean = y2.mean()\n",
    "y3_mean = y3.mean()"
   ]
  },
  {
   "cell_type": "code",
   "execution_count": 14,
   "id": "daeefad7",
   "metadata": {},
   "outputs": [],
   "source": [
    "y = df[df[\"country\"].isin([\"FIN\", \"NOR\", \"DEN\"])][\"height\"]"
   ]
  },
  {
   "cell_type": "code",
   "execution_count": 15,
   "id": "9f671b65",
   "metadata": {},
   "outputs": [],
   "source": [
    "y_mean = y.mean()"
   ]
  },
  {
   "cell_type": "code",
   "execution_count": 16,
   "id": "98cd8a0e",
   "metadata": {},
   "outputs": [],
   "source": [
    "SS_b = n1 * (y1_mean - y_mean) ** 2 + n2 * (y2_mean - y_mean) ** 2 + n3 * (y3_mean - y_mean) ** 2\n",
    "\n",
    "SS_w = ((y1 - y1_mean) ** 2).sum() + ((y2 - y2_mean) ** 2).sum() + ((y3 - y3_mean) ** 2).sum()"
   ]
  },
  {
   "cell_type": "code",
   "execution_count": 17,
   "id": "9bf964d9",
   "metadata": {},
   "outputs": [
    {
     "data": {
      "text/plain": [
       "(103.10491240291844, 24.12822596817945)"
      ]
     },
     "execution_count": 17,
     "metadata": {},
     "output_type": "execute_result"
    }
   ],
   "source": [
    "k = 3\n",
    "n = n1 + n2 + n3\n",
    "\n",
    "k1 = k - 1\n",
    "k2 = n - k\n",
    "\n",
    "sigma2_b = SS_b / k1\n",
    "sigma2_w = SS_w / k2\n",
    "\n",
    "sigma2_b, sigma2_w"
   ]
  },
  {
   "cell_type": "code",
   "execution_count": 18,
   "id": "915375c2",
   "metadata": {},
   "outputs": [
    {
     "data": {
      "text/plain": [
       "4.273207343917213"
      ]
     },
     "execution_count": 18,
     "metadata": {},
     "output_type": "execute_result"
    }
   ],
   "source": [
    "F = sigma2_b / sigma2_w\n",
    "F"
   ]
  },
  {
   "cell_type": "code",
   "execution_count": 19,
   "id": "010a3379",
   "metadata": {},
   "outputs": [
    {
     "data": {
      "text/plain": [
       "3.0045220661840073"
      ]
     },
     "execution_count": 19,
     "metadata": {},
     "output_type": "execute_result"
    }
   ],
   "source": [
    "alpha = 0.05\n",
    "\n",
    "t = stats.f.ppf(1 - alpha, k1, k2)\n",
    "t"
   ]
  },
  {
   "cell_type": "markdown",
   "id": "4733e5b5",
   "metadata": {},
   "source": [
    "Принимаем H1 - разница роста по странам значима."
   ]
  },
  {
   "cell_type": "code",
   "execution_count": 20,
   "id": "e539c19f",
   "metadata": {},
   "outputs": [],
   "source": [
    "y1 = df[df[\"country\"] == \"FIN\"][\"bmi\"]\n",
    "y2 = df[df[\"country\"] == \"NOR\"][\"bmi\"]\n",
    "y3 = df[df[\"country\"] == \"DEN\"][\"bmi\"]"
   ]
  },
  {
   "cell_type": "code",
   "execution_count": 21,
   "id": "94ef9350",
   "metadata": {},
   "outputs": [
    {
     "data": {
      "text/plain": [
       "F_onewayResult(statistic=36.058167277438685, pvalue=7.369962129725083e-16)"
      ]
     },
     "execution_count": 21,
     "metadata": {},
     "output_type": "execute_result"
    }
   ],
   "source": [
    "stats.f_oneway(y1, y2, y3)"
   ]
  },
  {
   "cell_type": "markdown",
   "id": "12ea75f4",
   "metadata": {},
   "source": [
    "Принимаем H1 - разница bmi по странам значима."
   ]
  },
  {
   "cell_type": "code",
   "execution_count": null,
   "id": "0040a5e8",
   "metadata": {},
   "outputs": [],
   "source": []
  }
 ],
 "metadata": {
  "kernelspec": {
   "display_name": "Python 3 (ipykernel)",
   "language": "python",
   "name": "python3"
  },
  "language_info": {
   "codemirror_mode": {
    "name": "ipython",
    "version": 3
   },
   "file_extension": ".py",
   "mimetype": "text/x-python",
   "name": "python",
   "nbconvert_exporter": "python",
   "pygments_lexer": "ipython3",
   "version": "3.9.7"
  }
 },
 "nbformat": 4,
 "nbformat_minor": 5
}
