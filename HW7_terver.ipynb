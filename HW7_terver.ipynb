{
 "cells": [
  {
   "cell_type": "markdown",
   "id": "ca4b6ab0",
   "metadata": {},
   "source": [
    "1.Дана матрица объект-признак\n",
    "\n",
    "X = [[ 1.22401313,  2.30868478,  3.03636353,  2.69287214],\n",
    "     [-0.18757272,  1.30337355,  5.12093014,  3.46363202],\n",
    "     [-0.81094525,  1.82463398,  5.79686488,  1.86159445],\n",
    "     [ 0.75129018,  2.67392052,  3.65529809,  1.66746094],\n",
    "     [ 0.00972362,  1.97367255,  2.50594319,  1.69755173],\n",
    "     [-0.62972637,  0.77750764,  2.84124027,  4.54410559],\n",
    "     [ 2.29536229,  1.81206697,  1.95026215,  1.51874636],\n",
    "     [ 0.0920418 ,  2.26971361,  7.47708735,  2.61081203],\n",
    "     [ 2.39252799,  3.17563985,  3.61420599,  5.10773362],\n",
    "     [ 0.54983815,  2.87988651,  1.65752765,  1.59635987]]\n",
    "и значения целевой переменной\n",
    "\n",
    "y = [ 9.26193358,  9.700363  ,  8.67214805,  8.74796974,  6.18689108,\n",
    "      7.53312713,  7.57643777, 12.44965478, 14.29010746,  6.68361218]\n",
    "Подберите два признака (из четырёх) так, чтобы уровень линейной зависимости целевой переменной от значений этих признаков был максимальным. Другими словами, модель линейной регрессии на этих признаках должна давать наилучший результат. В качестве ответа запишите значение коэффициента детерминации для модели на этих признаках."
   ]
  },
  {
   "cell_type": "code",
   "execution_count": 1,
   "id": "e8b75b45",
   "metadata": {},
   "outputs": [],
   "source": [
    "import numpy as np"
   ]
  },
  {
   "cell_type": "code",
   "execution_count": 2,
   "id": "483e52d4",
   "metadata": {},
   "outputs": [],
   "source": [
    "X = np.array([[ 1.22401313,  2.30868478,  3.03636353,  2.69287214],\n",
    "     [-0.18757272,  1.30337355,  5.12093014,  3.46363202],\n",
    "     [-0.81094525,  1.82463398,  5.79686488,  1.86159445],\n",
    "     [ 0.75129018,  2.67392052,  3.65529809,  1.66746094],\n",
    "     [ 0.00972362,  1.97367255,  2.50594319,  1.69755173],\n",
    "     [-0.62972637,  0.77750764,  2.84124027,  4.54410559],\n",
    "     [ 2.29536229,  1.81206697,  1.95026215,  1.51874636],\n",
    "     [ 0.0920418 ,  2.26971361,  7.47708735,  2.61081203],\n",
    "     [ 2.39252799,  3.17563985,  3.61420599,  5.10773362],\n",
    "     [ 0.54983815,  2.87988651,  1.65752765,  1.59635987]])\n",
    "y = np.array([ 9.26193358,  9.700363  ,  8.67214805,  8.74796974,  6.18689108,\n",
    "      7.53312713,  7.57643777, 12.44965478, 14.29010746,  6.68361218])"
   ]
  },
  {
   "cell_type": "code",
   "execution_count": 3,
   "id": "50a079dc",
   "metadata": {},
   "outputs": [],
   "source": [
    "ones = np.ones((X.shape[0], 1)) #создаем еденичный вектор по количесту наблюдений\n",
    "X = np.hstack((ones, X)) #Добавляем вектор в признаковое пространство"
   ]
  },
  {
   "cell_type": "code",
   "execution_count": 4,
   "id": "fcee84c0",
   "metadata": {},
   "outputs": [],
   "source": [
    "XTX = X.T.dot(X) #X.транспонированное.матрично умножаем на X изначальное"
   ]
  },
  {
   "cell_type": "code",
   "execution_count": 5,
   "id": "95b8e6f2",
   "metadata": {},
   "outputs": [],
   "source": [
    "XTX_inv = np.linalg.inv(XTX) # Ищем обратную матрицу предыдущего расчета"
   ]
  },
  {
   "cell_type": "code",
   "execution_count": 6,
   "id": "0e149b4f",
   "metadata": {},
   "outputs": [],
   "source": [
    "b = XTX_inv.dot(X.T).dot(y) # Эту обратную матрицу.матрично умножаем на транспонированную матрицу X.матрично умножаем на Y"
   ]
  },
  {
   "cell_type": "code",
   "execution_count": 7,
   "id": "747e3864",
   "metadata": {},
   "outputs": [
    {
     "data": {
      "text/plain": [
       "array([-7.50727147e-09,  1.00000000e+00,  1.00000000e+00,  9.99999999e-01,\n",
       "        1.00000000e+00])"
      ]
     },
     "execution_count": 7,
     "metadata": {},
     "output_type": "execute_result"
    }
   ],
   "source": [
    "b # Полученные коэфф. [b0 , b1, b2, b3, b4]"
   ]
  },
  {
   "cell_type": "code",
   "execution_count": 8,
   "id": "d262d0ee",
   "metadata": {},
   "outputs": [],
   "source": [
    "z = X.dot(b) # спрогнозируем"
   ]
  },
  {
   "cell_type": "code",
   "execution_count": 9,
   "id": "1b747fc8",
   "metadata": {},
   "outputs": [],
   "source": [
    "e = (y-z) # получим остатки (ошибку) на каждом прогнозе"
   ]
  },
  {
   "cell_type": "code",
   "execution_count": 10,
   "id": "5f5f8f54",
   "metadata": {},
   "outputs": [
    {
     "data": {
      "text/plain": [
       "7.904787935331115e-15"
      ]
     },
     "execution_count": 10,
     "metadata": {},
     "output_type": "execute_result"
    }
   ],
   "source": [
    "e.mean() # средняя ошибка стремится к 0"
   ]
  },
  {
   "cell_type": "code",
   "execution_count": 11,
   "id": "277bd5ba",
   "metadata": {},
   "outputs": [],
   "source": [
    "def sum_of_squares(samples: np.ndarray) -> float:\n",
    "    \"\"\"Сумма квадратов отклонений.\n",
    "    \"\"\"\n",
    "    \n",
    "    return ((samples - samples.mean()) ** 2).sum()"
   ]
  },
  {
   "cell_type": "code",
   "execution_count": 12,
   "id": "603baa85",
   "metadata": {},
   "outputs": [
    {
     "data": {
      "text/plain": [
       "1.0"
      ]
     },
     "execution_count": 12,
     "metadata": {},
     "output_type": "execute_result"
    }
   ],
   "source": [
    "R = 1 - sum_of_squares(e) / sum_of_squares(y)\n",
    "R"
   ]
  },
  {
   "cell_type": "code",
   "execution_count": 13,
   "id": "241fc473",
   "metadata": {},
   "outputs": [],
   "source": [
    "x = np.array([[ 1.22401313,  2.30868478,  3.03636353,  2.69287214],\n",
    "     [-0.18757272,  1.30337355,  5.12093014,  3.46363202],\n",
    "     [-0.81094525,  1.82463398,  5.79686488,  1.86159445],\n",
    "     [ 0.75129018,  2.67392052,  3.65529809,  1.66746094],\n",
    "     [ 0.00972362,  1.97367255,  2.50594319,  1.69755173],\n",
    "     [-0.62972637,  0.77750764,  2.84124027,  4.54410559],\n",
    "     [ 2.29536229,  1.81206697,  1.95026215,  1.51874636],\n",
    "     [ 0.0920418 ,  2.26971361,  7.47708735,  2.61081203],\n",
    "     [ 2.39252799,  3.17563985,  3.61420599,  5.10773362],\n",
    "     [ 0.54983815,  2.87988651,  1.65752765,  1.59635987]])\n",
    "y = np.array([ 9.26193358,  9.700363  ,  8.67214805,  8.74796974,  6.18689108,\n",
    "      7.53312713,  7.57643777, 12.44965478, 14.29010746,  6.68361218])"
   ]
  },
  {
   "cell_type": "code",
   "execution_count": 14,
   "id": "c8c22902",
   "metadata": {},
   "outputs": [],
   "source": [
    "def test_feachure(x: np.ndarray, y: np.ndarray, cols: list ):\n",
    "    \"\"\"\n",
    "    x - пространство признаков\n",
    "    y - вектор ответов\n",
    "    cols - список используемых фич.\n",
    "    \"\"\"\n",
    "    x = x[:,cols]\n",
    "    ones = np.ones((x.shape[0], 1)) \n",
    "    x = np.hstack((ones, x))\n",
    "    XTX = x.T.dot(x)\n",
    "    XTX_inv = np.linalg.inv(XTX)\n",
    "    b = XTX_inv.dot(x.T).dot(y)\n",
    "    z = x.dot(b)\n",
    "    e = (y-z)\n",
    "    R = 1 - sum_of_squares(e) / sum_of_squares(y)\n",
    "    return R"
   ]
  },
  {
   "cell_type": "code",
   "execution_count": 15,
   "id": "61c2ef52",
   "metadata": {},
   "outputs": [],
   "source": [
    "from itertools import combinations"
   ]
  },
  {
   "cell_type": "code",
   "execution_count": 16,
   "id": "84ec73dd",
   "metadata": {},
   "outputs": [
    {
     "name": "stdout",
     "output_type": "stream",
     "text": [
      "[0, 1] - 0.18113594742585215\n",
      "[0, 2] - 0.7634246238793152\n",
      "[0, 3] - 0.4532966783144078\n",
      "[1, 2] - 0.5479482734039011\n",
      "[1, 3] - 0.6062055761129932\n",
      "[2, 3] - 0.6224419876505325\n"
     ]
    }
   ],
   "source": [
    "for i in list(combinations([0,1,2,3], 2)):\n",
    "    print(f\"{list(i)} - {test_feachure(x,y,list(i))}\")"
   ]
  },
  {
   "cell_type": "markdown",
   "id": "1d36a7d3",
   "metadata": {},
   "source": [
    "Ответ: Столбцы - [0, 2], Коэфф детерминации - 0.7634246238793152"
   ]
  },
  {
   "cell_type": "code",
   "execution_count": null,
   "id": "02064cba",
   "metadata": {},
   "outputs": [],
   "source": []
  },
  {
   "cell_type": "markdown",
   "id": "79ea4a44",
   "metadata": {},
   "source": [
    "2.Является ли значимым уравнение регрессии, полученное в предыдущей задаче? В качестве ответа запишите 1, если является, и 0 иначе."
   ]
  },
  {
   "cell_type": "markdown",
   "id": "1b758f7e",
   "metadata": {},
   "source": [
    "Считать будем по тому уравнению, в котором 2 признака дают наилучший результат детерминации."
   ]
  },
  {
   "cell_type": "code",
   "execution_count": 17,
   "id": "7dbe2acc",
   "metadata": {},
   "outputs": [],
   "source": [
    "import scipy.stats as stats"
   ]
  },
  {
   "cell_type": "markdown",
   "id": "3ea4470d",
   "metadata": {},
   "source": [
    "H0 - Зависимость случайна\n",
    "Н1 - Зависимость значима\n",
    "Используем распределение Фишера\n",
    "alpha = 0.05\n",
    "Критическая область правосторонняя"
   ]
  },
  {
   "cell_type": "code",
   "execution_count": 18,
   "id": "51ef0590",
   "metadata": {},
   "outputs": [],
   "source": [
    "R2 = test_feachure(x,y,[0, 2])\n",
    "m = 2\n",
    "n = 10\n",
    "alpha = 0.05\n",
    "k1 = m\n",
    "k2 = n - m - 1"
   ]
  },
  {
   "cell_type": "code",
   "execution_count": 19,
   "id": "3d9ac92b",
   "metadata": {},
   "outputs": [],
   "source": [
    "F = (R2/k1) / ((1-R2)/k2)"
   ]
  },
  {
   "cell_type": "code",
   "execution_count": 20,
   "id": "346eb133",
   "metadata": {},
   "outputs": [],
   "source": [
    "t = stats.f.ppf(1-alpha, k1, k2)"
   ]
  },
  {
   "cell_type": "code",
   "execution_count": 21,
   "id": "e7898778",
   "metadata": {},
   "outputs": [
    {
     "data": {
      "text/plain": [
       "(11.29443912292265, 4.73741412777588)"
      ]
     },
     "execution_count": 21,
     "metadata": {},
     "output_type": "execute_result"
    }
   ],
   "source": [
    "F, t"
   ]
  },
  {
   "cell_type": "markdown",
   "id": "af436bcf",
   "metadata": {},
   "source": [
    "F - наша статистика больше t, значит лежит в критической области. Таким образом мы принимаем гипотезу Н1 - уравнение значимо."
   ]
  },
  {
   "cell_type": "markdown",
   "id": "0eec8d35",
   "metadata": {},
   "source": [
    "Ответ: 1"
   ]
  },
  {
   "cell_type": "markdown",
   "id": "e6d37549",
   "metadata": {},
   "source": [
    "3.Для проведения A/B-тестирования сайта интернет-магазина были получены следующие данные: страница A была посещена 2509 раз, из них 77 закончились совершением покупки, страница B была посещена 1465 раз, 60 из них закончились совершением покупки. Является ли значимым отличие конверсии на страницах A и B? В качестве ответа запишите 1, если является, и 0 иначе.\n",
    "\n",
    "Подсказка. Реализуйте двухвыборочный t-тест. В качестве выборок здесь можно взять наборы меток совершения покупки (0 или 1) каждым посетителем."
   ]
  },
  {
   "cell_type": "code",
   "execution_count": 24,
   "id": "3bf8a926",
   "metadata": {},
   "outputs": [],
   "source": [
    "A = np.array([1]*77 + [0]*(2509-77))\n",
    "B = np.array([1]*60 + [0]*(1465-60))"
   ]
  },
  {
   "cell_type": "code",
   "execution_count": 25,
   "id": "bb4e41a4",
   "metadata": {},
   "outputs": [],
   "source": [
    "nA = A.size\n",
    "nB = B.size\n",
    "stdA = A.std(ddof=1)\n",
    "stdB = B.std(ddof=1)"
   ]
  },
  {
   "cell_type": "code",
   "execution_count": 26,
   "id": "babc489f",
   "metadata": {},
   "outputs": [],
   "source": [
    "deltastd = (((stdA**2) / nA) + ((stdB**2) / nB))**0.5"
   ]
  },
  {
   "cell_type": "code",
   "execution_count": 27,
   "id": "f8bab6f8",
   "metadata": {},
   "outputs": [
    {
     "data": {
      "text/plain": [
       "-1.6504551408398205"
      ]
     },
     "execution_count": 27,
     "metadata": {},
     "output_type": "execute_result"
    }
   ],
   "source": [
    "t = (A.mean() - B.mean()) / deltastd\n",
    "t"
   ]
  },
  {
   "cell_type": "code",
   "execution_count": 28,
   "id": "08018b90",
   "metadata": {},
   "outputs": [
    {
     "data": {
      "text/plain": [
       "2732.8025644352133"
      ]
     },
     "execution_count": 28,
     "metadata": {},
     "output_type": "execute_result"
    }
   ],
   "source": [
    "df = (stdA ** 2 / nA + stdB ** 2 / nB) ** 2 / \\\n",
    "    ((stdA ** 2 / nA) ** 2 / (nA - 1) + (stdB ** 2 / nB) ** 2 / (nB - 1))\n",
    "\n",
    "df"
   ]
  },
  {
   "cell_type": "code",
   "execution_count": 29,
   "id": "c1ac2f23",
   "metadata": {},
   "outputs": [
    {
     "data": {
      "text/plain": [
       "(-1.9608324352746576, 1.9608324352746571)"
      ]
     },
     "execution_count": 29,
     "metadata": {},
     "output_type": "execute_result"
    }
   ],
   "source": [
    "t1 = stats.t.ppf(alpha / 2, df=df)\n",
    "t2 = stats.t.ppf(1 - alpha / 2, df=df)\n",
    "\n",
    "t1, t2"
   ]
  },
  {
   "cell_type": "markdown",
   "id": "9802d9fe",
   "metadata": {},
   "source": [
    "Мы видим, что наша метрика t не выходит за критическую область, следовательно H0 - принимается. Конверсия не является значимой."
   ]
  },
  {
   "cell_type": "markdown",
   "id": "2ab410c3",
   "metadata": {},
   "source": [
    "Ответ: 0"
   ]
  }
 ],
 "metadata": {
  "kernelspec": {
   "display_name": "Python 3 (ipykernel)",
   "language": "python",
   "name": "python3"
  },
  "language_info": {
   "codemirror_mode": {
    "name": "ipython",
    "version": 3
   },
   "file_extension": ".py",
   "mimetype": "text/x-python",
   "name": "python",
   "nbconvert_exporter": "python",
   "pygments_lexer": "ipython3",
   "version": "3.9.7"
  }
 },
 "nbformat": 4,
 "nbformat_minor": 5
}
