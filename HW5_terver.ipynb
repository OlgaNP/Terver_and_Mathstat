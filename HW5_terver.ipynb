{
 "cells": [
  {
   "cell_type": "markdown",
   "id": "c31e7278",
   "metadata": {},
   "source": [
    "Известно, что генеральная совокупность распределена нормально с известным средним квадратическим отклонением 16. Найти ширину доверительного интервала для оценки математического ожидания `mu` с надёжностью 0.95, если выборочное среднее равно 80, а объём выборки равен 256.\n"
   ]
  },
  {
   "cell_type": "code",
   "execution_count": 6,
   "id": "1e1e0a15",
   "metadata": {},
   "outputs": [],
   "source": [
    "import numpy as np\n",
    "from scipy import stats"
   ]
  },
  {
   "cell_type": "markdown",
   "id": "3b9e0bf4",
   "metadata": {},
   "source": [
    "$P \\left( \\overline{X} + t_{\\alpha / 2} \\cdot \\dfrac{\\sigma}{\\sqrt{n}} \\leq \\mu \\leq \\overline{X} + t_{1 - \\alpha / 2} \\cdot \\dfrac{\\sigma}{\\sqrt{n}} \\right) = p$"
   ]
  },
  {
   "cell_type": "code",
   "execution_count": 7,
   "id": "be091da2",
   "metadata": {},
   "outputs": [
    {
     "data": {
      "text/plain": [
       "(78.04003601545995, 81.95996398454005)"
      ]
     },
     "execution_count": 7,
     "metadata": {},
     "output_type": "execute_result"
    }
   ],
   "source": [
    "Xmean = 80\n",
    "std = 16\n",
    "n = 256\n",
    "𝛼 = 0.05\n",
    "t1 = stats.norm.ppf(𝛼 / 2)\n",
    "t2 = stats.norm.ppf(1 - 𝛼 / 2)\n",
    "(Xmean + t1 * std / np.sqrt(n), Xmean + t2 * std / np.sqrt(n))"
   ]
  },
  {
   "cell_type": "code",
   "execution_count": null,
   "id": "f71d4431",
   "metadata": {},
   "outputs": [],
   "source": []
  },
  {
   "cell_type": "markdown",
   "id": "f39ec1cd",
   "metadata": {},
   "source": [
    "Продавец утверждает, что средний вес пачки печенья составляет 200 г. Из партии извлечена выборка из 10 пачек. Вес каждой пачки составляет:\n",
    "```\n",
    "202, 203, 199, 197, 195, 201, 200, 204, 194, 190\n",
    "```\n",
    "Известно, что их веса распределены нормально. Верно ли утверждение продавца, если учитывать, что уровень значимости равен 1%? Найдите P-значение для данного теста и укажите его в качестве ответа."
   ]
  },
  {
   "cell_type": "code",
   "execution_count": 8,
   "id": "8ec95a45",
   "metadata": {},
   "outputs": [],
   "source": [
    "def statistic(samples: np.ndarray, mu: float) -> float:\n",
    "    return (samples.mean() - mu) / (samples.std(ddof=1) / np.sqrt(samples.shape[0]))"
   ]
  },
  {
   "cell_type": "code",
   "execution_count": 10,
   "id": "2a85ab63",
   "metadata": {},
   "outputs": [
    {
     "name": "stdout",
     "output_type": "stream",
     "text": [
      "Утверждение продавца = True  с учетом того, что S = -1.0651074037450896 и t1,t2 = -3.24983554401537 3.2498355440153697 \t\n"
     ]
    }
   ],
   "source": [
    "samples = np.array([202, 203, 199, 197, 195, 201, 200, 204, 194, 190])\n",
    "𝛼 = 0.01\n",
    "n = 10\n",
    "mu = 200\n",
    "S = statistic(samples, 200)\n",
    "t1 = stats.t.ppf(𝛼 / 2, df = n-1)\n",
    "t2 = stats.t.ppf(1 - 𝛼 / 2, df = n-1)\n",
    "\n",
    "print('Утверждение продавца =',t1 <= S <= t2, ' с учетом того, что S =',S, 'и t1,t2 =',t1,t2,  '\\t')"
   ]
  },
  {
   "cell_type": "code",
   "execution_count": 11,
   "id": "e313001a",
   "metadata": {},
   "outputs": [
    {
     "name": "stdout",
     "output_type": "stream",
     "text": [
      "P-значение для данного теста = 0.31456660352472854\n"
     ]
    }
   ],
   "source": [
    "\n",
    "p_left = stats.t.cdf(S, df=n - 1)\n",
    "p_right = 1 - stats.t.cdf(S, df=n - 1)\n",
    "\n",
    "pvalue = 2 * min(p_left, p_right)\n",
    "\n",
    "print('P-значение для данного теста =',pvalue)"
   ]
  },
  {
   "cell_type": "markdown",
   "id": "df5dae72",
   "metadata": {},
   "source": [
    "Дана выборка диаметров подшипников из примера 1 с занятия 5:\n",
    "```\n",
    "samples = [0.6603, 0.9466, 0.5968, 1.3792, 1.5481, 0.7515, 1.0681, 1.1134,\n",
    "           1.2088, 1.701 , 1.0282, 1.3579, 1.0191, 1.1784, 1.1168, 1.1372,\n",
    "           0.7273, 1.3958, 0.8665, 1.5112, 1.161 , 1.0232, 1.0865, 1.02  ]\n",
    "```\n",
    "Предполагая, что диаметры подшипников распределены нормально, проверьте гипотезу о том, что дисперсия случайной величины равна `0.0625` при уровне значимости `alpha = 0.05`. Что для этого нужно знать:\n",
    "1. Альтернативная гипотеза двухсторонняя.\n",
    "2. Статистика для теста: `H = (n - 1) * sample_variance / variance`, где `n` - число элементов в выборке, `sample_variance` - несмещённая оценка дисперсии, `variance` - утверждаемая нулевой гипотезой дисперсия.\n",
    "3. Эта статистика в предположении верности нулевой гипотезы имеет распределение хи-квадрат с параметром `df = n - 1`. Её квантили можно найти с помощью функции `scipy.stats.chi2.ppf`.\n",
    "\n",
    "В качестве ответа запишите 1, если нулевая гипотеза верна, и 0 иначе."
   ]
  },
  {
   "cell_type": "code",
   "execution_count": 12,
   "id": "19dd970b",
   "metadata": {},
   "outputs": [],
   "source": [
    "samples = np.array([0.6603, 0.9466, 0.5968, 1.3792, 1.5481, 0.7515, 1.0681, 1.1134,\n",
    "                    1.2088, 1.701 , 1.0282, 1.3579, 1.0191, 1.1784, 1.1168, 1.1372,\n",
    "                    0.7273, 1.3958, 0.8665, 1.5112, 1.161 , 1.0232, 1.0865, 1.02  ])"
   ]
  },
  {
   "cell_type": "code",
   "execution_count": 15,
   "id": "71a06c7e",
   "metadata": {},
   "outputs": [
    {
     "name": "stdout",
     "output_type": "stream",
     "text": [
      "Гипотеза = True  с учетом того, что S = 28.720541753333343 и t1,t2 = 11.688551922452438 38.0756272503558 \t\n"
     ]
    }
   ],
   "source": [
    "n = samples.shape[0]\n",
    "sample_variance = samples.var(ddof = 1)\n",
    "𝛼 = 0.05\n",
    "H = (n - 1) * sample_variance / 0.0625\n",
    "t1 = stats.chi2.ppf(𝛼 / 2, df = n-1)\n",
    "t2 = stats.chi2.ppf(1 - 𝛼 / 2, df = n-1)\n",
    "print('Гипотеза =',t1 <= H <= t2, ' с учетом того, что S =',H, 'и t1,t2 =',t1,t2,  '\\t')"
   ]
  },
  {
   "cell_type": "code",
   "execution_count": 16,
   "id": "ef451f8b",
   "metadata": {},
   "outputs": [
    {
     "data": {
      "text/plain": [
       "1"
      ]
     },
     "execution_count": 16,
     "metadata": {},
     "output_type": "execute_result"
    }
   ],
   "source": [
    "1"
   ]
  },
  {
   "cell_type": "code",
   "execution_count": null,
   "id": "8da71892",
   "metadata": {},
   "outputs": [],
   "source": []
  }
 ],
 "metadata": {
  "kernelspec": {
   "display_name": "Python 3 (ipykernel)",
   "language": "python",
   "name": "python3"
  },
  "language_info": {
   "codemirror_mode": {
    "name": "ipython",
    "version": 3
   },
   "file_extension": ".py",
   "mimetype": "text/x-python",
   "name": "python",
   "nbconvert_exporter": "python",
   "pygments_lexer": "ipython3",
   "version": "3.9.7"
  }
 },
 "nbformat": 4,
 "nbformat_minor": 5
}
