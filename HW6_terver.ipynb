{
 "cells": [
  {
   "cell_type": "markdown",
   "id": "a72dd94a",
   "metadata": {},
   "source": [
    "1. Даны значения величины заработной платы заемщиков банка (zp) и значения их поведенческого кредитного скоринга (ks):\n",
    "zp = [35, 45, 190, 200, 40, 70, 54, 150, 120, 110],\n",
    "ks = [401, 574, 874, 919, 459, 739, 653, 902, 746, 832].\n",
    "Найдите ковариацию этих двух величин с помощью элементарных действий, а затем с помощью функции cov из numpy\n",
    "Полученные значения должны быть равны.\n",
    "Найдите коэффициент корреляции Пирсона с помощью ковариации и среднеквадратичных отклонений двух признаков,\n",
    "а затем с использованием функций из библиотек numpy и pandas.\n"
   ]
  },
  {
   "cell_type": "code",
   "execution_count": 25,
   "id": "3e6aa936",
   "metadata": {},
   "outputs": [],
   "source": [
    "import pandas as pd\n",
    "import numpy as np\n",
    "from scipy import stats"
   ]
  },
  {
   "cell_type": "code",
   "execution_count": 2,
   "id": "6c1f3aca",
   "metadata": {},
   "outputs": [],
   "source": [
    "zp = [35, 45, 190, 200, 40, 70, 54, 150, 120, 110]\n",
    "ks = [401, 574, 874, 919, 459, 739, 653, 902, 746, 832]"
   ]
  },
  {
   "cell_type": "code",
   "execution_count": 9,
   "id": "1b45aeab",
   "metadata": {},
   "outputs": [],
   "source": [
    "MX = sum(zp)/len(zp)\n",
    "MY = sum(ks)/len(ks)"
   ]
  },
  {
   "cell_type": "code",
   "execution_count": 12,
   "id": "b8c829d1",
   "metadata": {},
   "outputs": [
    {
     "data": {
      "text/plain": [
       "91578.4"
      ]
     },
     "execution_count": 12,
     "metadata": {},
     "output_type": "execute_result"
    }
   ],
   "source": [
    "s = 0\n",
    "for i in range(len(zp)):\n",
    "    s += (zp[i]- MX)*(ks[i]-MY)\n",
    "s\n",
    "    "
   ]
  },
  {
   "cell_type": "code",
   "execution_count": 13,
   "id": "c6a342ba",
   "metadata": {},
   "outputs": [
    {
     "data": {
      "text/plain": [
       "9157.84"
      ]
     },
     "execution_count": 13,
     "metadata": {},
     "output_type": "execute_result"
    }
   ],
   "source": [
    "cov = s / len(zp)\n",
    "cov"
   ]
  },
  {
   "cell_type": "code",
   "execution_count": 15,
   "id": "881a9ef6",
   "metadata": {},
   "outputs": [
    {
     "data": {
      "text/plain": [
       "array([[ 3494.64,  9157.84],\n",
       "       [ 9157.84, 30468.89]])"
      ]
     },
     "execution_count": 15,
     "metadata": {},
     "output_type": "execute_result"
    }
   ],
   "source": [
    "np.cov(zp,ks,ddof=0)"
   ]
  },
  {
   "cell_type": "markdown",
   "id": "c87448ac",
   "metadata": {},
   "source": [
    "Несмещенная ковариация"
   ]
  },
  {
   "cell_type": "code",
   "execution_count": 19,
   "id": "21cd5095",
   "metadata": {},
   "outputs": [
    {
     "data": {
      "text/plain": [
       "10175.377777777778"
      ]
     },
     "execution_count": 19,
     "metadata": {},
     "output_type": "execute_result"
    }
   ],
   "source": [
    "cov_n = s/(len(zp)-1)\n",
    "cov_n"
   ]
  },
  {
   "cell_type": "code",
   "execution_count": 20,
   "id": "a4763258",
   "metadata": {},
   "outputs": [
    {
     "data": {
      "text/plain": [
       "array([[ 3882.93333333, 10175.37777778],\n",
       "       [10175.37777778, 33854.32222222]])"
      ]
     },
     "execution_count": 20,
     "metadata": {},
     "output_type": "execute_result"
    }
   ],
   "source": [
    "np.cov(zp,ks,ddof=1)"
   ]
  },
  {
   "cell_type": "markdown",
   "id": "a75a1b1a",
   "metadata": {},
   "source": [
    "коэффициент корреляции Пирсона"
   ]
  },
  {
   "cell_type": "code",
   "execution_count": 21,
   "id": "b98849c5",
   "metadata": {},
   "outputs": [],
   "source": [
    "DX = sum((x - MX)**2 for x in zp) / (len(zp) - 1)\n",
    "DY = sum((y - MY)**2 for y in ks) / (len(zp) - 1)"
   ]
  },
  {
   "cell_type": "code",
   "execution_count": 23,
   "id": "66d5c7c9",
   "metadata": {},
   "outputs": [
    {
     "data": {
      "text/plain": [
       "0.8874900920739162"
      ]
     },
     "execution_count": 23,
     "metadata": {},
     "output_type": "execute_result"
    }
   ],
   "source": [
    "sigm_X = DX ** 0.5\n",
    "sigm_Y = DY ** 0.5\n",
    "\n",
    "r = cov_n / (sigm_X * sigm_Y)\n",
    "r"
   ]
  },
  {
   "cell_type": "code",
   "execution_count": 24,
   "id": "0062ecd8",
   "metadata": {},
   "outputs": [
    {
     "name": "stderr",
     "output_type": "stream",
     "text": [
      "/var/folders/jg/q12qqgm14jx4nld88b6cdy3m0000gn/T/ipykernel_11774/3485982831.py:1: DeprecationWarning: bias and ddof have no effect and are deprecated\n",
      "  np.corrcoef(zp, ks, ddof=1)\n"
     ]
    },
    {
     "data": {
      "text/plain": [
       "array([[1.        , 0.88749009],\n",
       "       [0.88749009, 1.        ]])"
      ]
     },
     "execution_count": 24,
     "metadata": {},
     "output_type": "execute_result"
    }
   ],
   "source": [
    "np.corrcoef(zp, ks, ddof=1)"
   ]
  },
  {
   "cell_type": "code",
   "execution_count": 26,
   "id": "2db2d94b",
   "metadata": {},
   "outputs": [
    {
     "data": {
      "text/plain": [
       "(0.8874900920739164, 0.0006107546587257491)"
      ]
     },
     "execution_count": 26,
     "metadata": {},
     "output_type": "execute_result"
    }
   ],
   "source": [
    "stats.pearsonr(zp,ks)"
   ]
  },
  {
   "cell_type": "code",
   "execution_count": null,
   "id": "422f51cc",
   "metadata": {},
   "outputs": [],
   "source": []
  },
  {
   "cell_type": "markdown",
   "id": "6df08034",
   "metadata": {},
   "source": [
    "2. Измерены значения IQ выборки студентов,\n",
    "обучающихся в местных технических вузах:\n",
    "131, 125, 115, 122, 131, 115, 107, 99, 125, 111.\n",
    "Известно, что в генеральной совокупности IQ распределен нормально.\n",
    "Найдите доверительный интервал для математического ожидания с надежностью 0.95.\n"
   ]
  },
  {
   "cell_type": "code",
   "execution_count": 29,
   "id": "930c583a",
   "metadata": {},
   "outputs": [],
   "source": [
    "iq = np.array([131, 125, 115, 122, 131, 115, 107, 99, 125, 111])"
   ]
  },
  {
   "cell_type": "code",
   "execution_count": 30,
   "id": "b502de49",
   "metadata": {},
   "outputs": [
    {
     "data": {
      "text/plain": [
       "(10, 118.1, 10.54566788359614)"
      ]
     },
     "execution_count": 30,
     "metadata": {},
     "output_type": "execute_result"
    }
   ],
   "source": [
    "p = 0.95\n",
    "\n",
    "n = len(iq)\n",
    "mean = iq.mean()\n",
    "sigm = iq.std(ddof=1)\n",
    "alpha = 1 - p\n",
    "\n",
    "n, mean, sigm"
   ]
  },
  {
   "cell_type": "code",
   "execution_count": 31,
   "id": "8db0742e",
   "metadata": {},
   "outputs": [
    {
     "data": {
      "text/plain": [
       "2.2621571627409915"
      ]
     },
     "execution_count": 31,
     "metadata": {},
     "output_type": "execute_result"
    }
   ],
   "source": [
    "t = stats.t.ppf(1 - alpha/2, df=n-1)\n",
    "t"
   ]
  },
  {
   "cell_type": "code",
   "execution_count": 32,
   "id": "35712ceb",
   "metadata": {},
   "outputs": [
    {
     "data": {
      "text/plain": [
       "(110.55608365158724, 125.64391634841274)"
      ]
     },
     "execution_count": 32,
     "metadata": {},
     "output_type": "execute_result"
    }
   ],
   "source": [
    "L = mean - t * (sigm / np.sqrt(n))\n",
    "U = mean + t * (sigm / np.sqrt(n))\n",
    "\n",
    "L, U"
   ]
  },
  {
   "cell_type": "markdown",
   "id": "f2eddc03",
   "metadata": {},
   "source": [
    "доверительный интервал для математического ожидания с надежностью 0.95 (110.55608365158724 <= a <= 125.64391634841274)"
   ]
  },
  {
   "cell_type": "markdown",
   "id": "4dd236b8",
   "metadata": {},
   "source": [
    "3. Известно, что рост футболистов в сборной распределен нормально\n",
    "с дисперсией генеральной совокупности, равной 25 кв.см. Объем выборки равен 27,\n",
    "среднее выборочное составляет 174.2. Найдите доверительный интервал для математического\n",
    "ожидания с надежностью 0.95.\n"
   ]
  },
  {
   "cell_type": "code",
   "execution_count": 33,
   "id": "76bdfedd",
   "metadata": {},
   "outputs": [
    {
     "data": {
      "text/plain": [
       "1.959963984540054"
      ]
     },
     "execution_count": 33,
     "metadata": {},
     "output_type": "execute_result"
    }
   ],
   "source": [
    "n = 27\n",
    "p = 0.95\n",
    "D = 25\n",
    "mean = 174.2\n",
    "\n",
    "sigm = D ** 0.5\n",
    "alpha = 1 - p\n",
    "\n",
    "t = stats.norm.ppf(1 - alpha/2)\n",
    "t"
   ]
  },
  {
   "cell_type": "code",
   "execution_count": 34,
   "id": "1c03dbb9",
   "metadata": {},
   "outputs": [
    {
     "data": {
      "text/plain": [
       "(172.3140237765397, 176.08597622346028)"
      ]
     },
     "execution_count": 34,
     "metadata": {},
     "output_type": "execute_result"
    }
   ],
   "source": [
    "L = mean - t * (sigm / np.sqrt(n))\n",
    "U = mean + t * (sigm / np.sqrt(n))\n",
    "\n",
    "L, U"
   ]
  },
  {
   "cell_type": "markdown",
   "id": "c66eea94",
   "metadata": {},
   "source": [
    "доверительный интервал для математического ожидания с надежностью 0.95 (172.3140237765397 <= a <= 176.08597622346028)"
   ]
  },
  {
   "cell_type": "code",
   "execution_count": null,
   "id": "79a5e157",
   "metadata": {},
   "outputs": [],
   "source": []
  }
 ],
 "metadata": {
  "kernelspec": {
   "display_name": "Python 3 (ipykernel)",
   "language": "python",
   "name": "python3"
  },
  "language_info": {
   "codemirror_mode": {
    "name": "ipython",
    "version": 3
   },
   "file_extension": ".py",
   "mimetype": "text/x-python",
   "name": "python",
   "nbconvert_exporter": "python",
   "pygments_lexer": "ipython3",
   "version": "3.9.7"
  }
 },
 "nbformat": 4,
 "nbformat_minor": 5
}
