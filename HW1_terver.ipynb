{
 "cells": [
  {
   "cell_type": "markdown",
   "id": "0f65f130",
   "metadata": {},
   "source": [
    "Задача 1\n",
    "\n",
    "Имеется колода в 52 карты. Найти число возможностей вытянуть из неё 4 карты так, чтобы среди них был хотя бы один туз."
   ]
  },
  {
   "cell_type": "code",
   "execution_count": 2,
   "id": "0a171d5e",
   "metadata": {},
   "outputs": [],
   "source": [
    "import numpy as np"
   ]
  },
  {
   "cell_type": "code",
   "execution_count": 3,
   "id": "f0d5415a",
   "metadata": {},
   "outputs": [],
   "source": [
    "def combinations(n,k):\n",
    "    return np.math.factorial(n)//(np.math.factorial(k)*np.math.factorial(n-k))"
   ]
  },
  {
   "cell_type": "markdown",
   "id": "92c2dfd6",
   "metadata": {},
   "source": [
    "Число возможностей вытащить 1 туз"
   ]
  },
  {
   "cell_type": "code",
   "execution_count": 12,
   "id": "16fa35d9",
   "metadata": {},
   "outputs": [
    {
     "data": {
      "text/plain": [
       "69184"
      ]
     },
     "execution_count": 12,
     "metadata": {},
     "output_type": "execute_result"
    }
   ],
   "source": [
    "P1 = combinations(4,1)*combinations(48,3)\n",
    "P1"
   ]
  },
  {
   "cell_type": "markdown",
   "id": "9fd426c6",
   "metadata": {},
   "source": [
    "Число возможностей вытащить 2 тузa"
   ]
  },
  {
   "cell_type": "code",
   "execution_count": 13,
   "id": "5d983777",
   "metadata": {},
   "outputs": [
    {
     "data": {
      "text/plain": [
       "6768"
      ]
     },
     "execution_count": 13,
     "metadata": {},
     "output_type": "execute_result"
    }
   ],
   "source": [
    "P2 = combinations(4,2)*combinations(48,2)\n",
    "P2"
   ]
  },
  {
   "cell_type": "markdown",
   "id": "a13ea2d8",
   "metadata": {},
   "source": [
    "Число возможностей вытащить 3 тузa"
   ]
  },
  {
   "cell_type": "code",
   "execution_count": 14,
   "id": "9d5e8f7f",
   "metadata": {},
   "outputs": [
    {
     "data": {
      "text/plain": [
       "192"
      ]
     },
     "execution_count": 14,
     "metadata": {},
     "output_type": "execute_result"
    }
   ],
   "source": [
    "P3 = combinations(4,3)*combinations(48,1)\n",
    "P3"
   ]
  },
  {
   "cell_type": "markdown",
   "id": "c7a3670b",
   "metadata": {},
   "source": [
    "Число возможностей вытащить 4 тузa"
   ]
  },
  {
   "cell_type": "code",
   "execution_count": 15,
   "id": "96dde7bd",
   "metadata": {},
   "outputs": [
    {
     "data": {
      "text/plain": [
       "1"
      ]
     },
     "execution_count": 15,
     "metadata": {},
     "output_type": "execute_result"
    }
   ],
   "source": [
    "P4 = combinations(4,4)*combinations(48,0)\n",
    "P4"
   ]
  },
  {
   "cell_type": "markdown",
   "id": "ca1e6cd9",
   "metadata": {},
   "source": [
    "Ответ"
   ]
  },
  {
   "cell_type": "code",
   "execution_count": 16,
   "id": "bd980b46",
   "metadata": {},
   "outputs": [
    {
     "name": "stdout",
     "output_type": "stream",
     "text": [
      "Ответ:76145\n"
     ]
    }
   ],
   "source": [
    "print(f'Ответ:{P1+P2+P3+P4}')"
   ]
  },
  {
   "cell_type": "markdown",
   "id": "63f9db8c",
   "metadata": {},
   "source": []
  },
  {
   "cell_type": "markdown",
   "id": "f34798e7",
   "metadata": {},
   "source": [
    "Задачи 2 и 3\n",
    "\n",
    "Из 60 вопросов, входящих в экзаменационные билеты, студент знает 50. Случайным образом студент вытягивает 3 вопроса.  "
   ]
  },
  {
   "cell_type": "markdown",
   "id": "b5d6a095",
   "metadata": {},
   "source": [
    "Какова вероятность, что все выбранные вопросы знакомы студенту?\n",
    "Считаем вероятность как количество благоприятных исходов к общему количеству возможных вариантов"
   ]
  },
  {
   "cell_type": "code",
   "execution_count": 17,
   "id": "82165e11",
   "metadata": {},
   "outputs": [
    {
     "data": {
      "text/plain": [
       "19600"
      ]
     },
     "execution_count": 17,
     "metadata": {},
     "output_type": "execute_result"
    }
   ],
   "source": [
    "m = combinations(50,3)\n",
    "m"
   ]
  },
  {
   "cell_type": "code",
   "execution_count": 18,
   "id": "6ce660fa",
   "metadata": {},
   "outputs": [
    {
     "data": {
      "text/plain": [
       "34220"
      ]
     },
     "execution_count": 18,
     "metadata": {},
     "output_type": "execute_result"
    }
   ],
   "source": [
    "n = combinations(60,3)\n",
    "n"
   ]
  },
  {
   "cell_type": "code",
   "execution_count": 20,
   "id": "6f7fae2f",
   "metadata": {},
   "outputs": [
    {
     "name": "stdout",
     "output_type": "stream",
     "text": [
      "Вероятность равна: 0.57\n"
     ]
    }
   ],
   "source": [
    "print(f'Вероятность равна: {round(m / n,2)}')"
   ]
  },
  {
   "cell_type": "markdown",
   "id": "6b469ac6",
   "metadata": {},
   "source": [
    "Какова вероятность что два из трёх вопросов знакомы студенту?"
   ]
  },
  {
   "cell_type": "code",
   "execution_count": 21,
   "id": "71ed13ca",
   "metadata": {},
   "outputs": [
    {
     "data": {
      "text/plain": [
       "12250"
      ]
     },
     "execution_count": 21,
     "metadata": {},
     "output_type": "execute_result"
    }
   ],
   "source": [
    "m = combinations(50,2)*combinations(10,1)\n",
    "m"
   ]
  },
  {
   "cell_type": "code",
   "execution_count": 22,
   "id": "e5c74278",
   "metadata": {},
   "outputs": [
    {
     "data": {
      "text/plain": [
       "34220"
      ]
     },
     "execution_count": 22,
     "metadata": {},
     "output_type": "execute_result"
    }
   ],
   "source": [
    "n = combinations(60,3)\n",
    "n"
   ]
  },
  {
   "cell_type": "code",
   "execution_count": 23,
   "id": "e7221fe8",
   "metadata": {},
   "outputs": [
    {
     "name": "stdout",
     "output_type": "stream",
     "text": [
      "Вероятность равна: 0.36\n"
     ]
    }
   ],
   "source": [
    "print(f'Вероятность равна: {round(m / n,2)}')"
   ]
  },
  {
   "cell_type": "markdown",
   "id": "851b11f8",
   "metadata": {},
   "source": []
  },
  {
   "cell_type": "markdown",
   "id": "d442fb70",
   "metadata": {},
   "source": [
    "Задача 4\n",
    "\n",
    "Допустим, имеется некоторая очень редкая болезнь (поражает 0.1% населения). Вы приходите к врачу, вам делают тест на эту болезнь, и тест оказывается положительным. Врач говорит вам, что этот тест верно выявляет 99% больных этой болезнью и всего лишь в 1% случаев даёт ложный положительный ответ.\n",
    "\n",
    "Вопрос: какова вероятность, что вы действительно больны ей?\n",
    "\n",
    "Подсказка: используйте формулу Байеса с раскрытием знаменателя с помощью формулы полной вероятности."
   ]
  },
  {
   "cell_type": "markdown",
   "id": "c378f85f",
   "metadata": {},
   "source": [
    "$$P(B\\:|\\:A) = \\frac{P(A\\:|\\:B) \\cdot P(B)}{P(A)}$$"
   ]
  },
  {
   "cell_type": "markdown",
   "id": "7fd2e2d6",
   "metadata": {},
   "source": [
    "P(A) - полная вероятность того,что тест покажет положительный результат\n",
    "P(A) = 0,01*0,999 + 0,001*0,99"
   ]
  },
  {
   "cell_type": "markdown",
   "id": "a396faaf",
   "metadata": {},
   "source": [
    "P(A|B)*P(B)= 0,001*0,99"
   ]
  },
  {
   "cell_type": "code",
   "execution_count": 25,
   "id": "c521e267",
   "metadata": {},
   "outputs": [
    {
     "name": "stdout",
     "output_type": "stream",
     "text": [
      "Ответ:0.09\n"
     ]
    }
   ],
   "source": [
    "print(f'Ответ:{round((0.001*0.99)/(0.01*0.999 + 0.001*0.99),2)}')"
   ]
  },
  {
   "cell_type": "code",
   "execution_count": null,
   "id": "115bdf37",
   "metadata": {},
   "outputs": [],
   "source": []
  }
 ],
 "metadata": {
  "kernelspec": {
   "display_name": "Python 3 (ipykernel)",
   "language": "python",
   "name": "python3"
  },
  "language_info": {
   "codemirror_mode": {
    "name": "ipython",
    "version": 3
   },
   "file_extension": ".py",
   "mimetype": "text/x-python",
   "name": "python",
   "nbconvert_exporter": "python",
   "pygments_lexer": "ipython3",
   "version": "3.9.7"
  }
 },
 "nbformat": 4,
 "nbformat_minor": 5
}
