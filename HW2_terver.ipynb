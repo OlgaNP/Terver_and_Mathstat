{
 "cells": [
  {
   "cell_type": "markdown",
   "id": "a8659c25",
   "metadata": {},
   "source": [
    "Задачи 1 и 2\n",
    "Контрольная работа состоит из пяти вопросов. На каждый вопрос приведено четыре варианта ответа, один из которых правильный. Случайная величина X задаёт число правильных ответов при простом угадывании. Найдите математическое ожидание данной случайной величины. Найдите дисперсию случайной величины X.\n",
    "\n",
    "Подсказка: постройте закон распределения случайной величины X."
   ]
  },
  {
   "cell_type": "code",
   "execution_count": 32,
   "id": "4b0c4ee6",
   "metadata": {},
   "outputs": [],
   "source": [
    "import numpy as np\n",
    "\n",
    "def combinations(n,k):\n",
    "    return np.math.factorial(n)//(np.math.factorial(k)*np.math.factorial(n-k))"
   ]
  },
  {
   "cell_type": "code",
   "execution_count": 76,
   "id": "867fc9e3",
   "metadata": {},
   "outputs": [],
   "source": [
    "def bernulli(n,k,p):\n",
    "    return combinations(n,k) * (p ** k) * ((1-p)**(n-k))"
   ]
  },
  {
   "cell_type": "markdown",
   "id": "3b222094",
   "metadata": {},
   "source": [
    "При угадывании возможные величины Х = [0,1,2,3,4,5]\n",
    "Найдем вероятность для каждого варианта"
   ]
  },
  {
   "cell_type": "code",
   "execution_count": 77,
   "id": "92f09abc",
   "metadata": {},
   "outputs": [
    {
     "data": {
      "text/plain": [
       "0.2373046875"
      ]
     },
     "execution_count": 77,
     "metadata": {},
     "output_type": "execute_result"
    }
   ],
   "source": [
    "\n",
    "P = []\n",
    "x0 = bernulli(5,0,0.25)\n",
    "P.append(x0)\n",
    "x0"
   ]
  },
  {
   "cell_type": "code",
   "execution_count": 78,
   "id": "a69d1268",
   "metadata": {},
   "outputs": [
    {
     "data": {
      "text/plain": [
       "0.3955078125"
      ]
     },
     "execution_count": 78,
     "metadata": {},
     "output_type": "execute_result"
    }
   ],
   "source": [
    "x1 = bernulli(5,1,0.25)\n",
    "P.append(x1)\n",
    "x1"
   ]
  },
  {
   "cell_type": "code",
   "execution_count": 79,
   "id": "bb431234",
   "metadata": {},
   "outputs": [
    {
     "data": {
      "text/plain": [
       "0.263671875"
      ]
     },
     "execution_count": 79,
     "metadata": {},
     "output_type": "execute_result"
    }
   ],
   "source": [
    "x2 = bernulli(5,2,0.25)\n",
    "P.append(x2)\n",
    "x2"
   ]
  },
  {
   "cell_type": "code",
   "execution_count": 80,
   "id": "9bf9dc10",
   "metadata": {},
   "outputs": [
    {
     "data": {
      "text/plain": [
       "0.087890625"
      ]
     },
     "execution_count": 80,
     "metadata": {},
     "output_type": "execute_result"
    }
   ],
   "source": [
    "x3 = bernulli(5,3,0.25)\n",
    "P.append(x3)\n",
    "x3"
   ]
  },
  {
   "cell_type": "code",
   "execution_count": 81,
   "id": "6e21964d",
   "metadata": {},
   "outputs": [
    {
     "data": {
      "text/plain": [
       "0.0146484375"
      ]
     },
     "execution_count": 81,
     "metadata": {},
     "output_type": "execute_result"
    }
   ],
   "source": [
    "x4 = bernulli(5,4,0.25)\n",
    "P.append(x4)\n",
    "x4"
   ]
  },
  {
   "cell_type": "code",
   "execution_count": 82,
   "id": "db480fdc",
   "metadata": {},
   "outputs": [
    {
     "data": {
      "text/plain": [
       "0.0009765625"
      ]
     },
     "execution_count": 82,
     "metadata": {},
     "output_type": "execute_result"
    }
   ],
   "source": [
    "x5 = bernulli(5,5,0.25)\n",
    "P.append(x5)\n",
    "x5"
   ]
  },
  {
   "cell_type": "code",
   "execution_count": 83,
   "id": "eca208f9",
   "metadata": {},
   "outputs": [],
   "source": [
    "X = [0,1,2,3,4,5]"
   ]
  },
  {
   "cell_type": "markdown",
   "id": "3c8746b0",
   "metadata": {},
   "source": [
    "Математическое ожидание"
   ]
  },
  {
   "cell_type": "markdown",
   "id": "fec90605",
   "metadata": {},
   "source": [
    "1 способ"
   ]
  },
  {
   "cell_type": "markdown",
   "id": "b7fe699c",
   "metadata": {},
   "source": [
    "m = n*p = 0.25*5 =1.25"
   ]
  },
  {
   "cell_type": "markdown",
   "id": "8b703db7",
   "metadata": {},
   "source": [
    "2 способ"
   ]
  },
  {
   "cell_type": "code",
   "execution_count": 84,
   "id": "5d772dd0",
   "metadata": {},
   "outputs": [
    {
     "data": {
      "text/plain": [
       "1.25"
      ]
     },
     "execution_count": 84,
     "metadata": {},
     "output_type": "execute_result"
    }
   ],
   "source": [
    "m = (np.array(X)*np.array(P)).sum()\n",
    "m\n",
    " "
   ]
  },
  {
   "cell_type": "markdown",
   "id": "b21d33e9",
   "metadata": {},
   "source": [
    "Дисперсия"
   ]
  },
  {
   "cell_type": "markdown",
   "id": "324a6ae3",
   "metadata": {},
   "source": [
    "1 способ"
   ]
  },
  {
   "cell_type": "code",
   "execution_count": null,
   "id": "5eb96c9c",
   "metadata": {},
   "outputs": [],
   "source": [
    "d = n*p*(1-p) = 5*0.25*(1-0.25) = 0.9375"
   ]
  },
  {
   "cell_type": "markdown",
   "id": "e9632a1b",
   "metadata": {},
   "source": [
    "2 способ"
   ]
  },
  {
   "cell_type": "code",
   "execution_count": 85,
   "id": "358bfe70",
   "metadata": {},
   "outputs": [
    {
     "data": {
      "text/plain": [
       "0.9375"
      ]
     },
     "execution_count": 85,
     "metadata": {},
     "output_type": "execute_result"
    }
   ],
   "source": [
    "d = ((np.array(X)-m)**2*np.array(P)).sum()\n",
    "d"
   ]
  },
  {
   "cell_type": "code",
   "execution_count": null,
   "id": "b70aa83a",
   "metadata": {},
   "outputs": [],
   "source": []
  },
  {
   "cell_type": "markdown",
   "id": "549d89be",
   "metadata": {},
   "source": [
    "Задача 3\n",
    "Пользователь получает в среднем 10 писем со спамом на свой почтовый ящик за сутки. Найти число N, такое, что с вероятностью 0.95 пользователь получит не более N писем со спамом за текущий день."
   ]
  },
  {
   "cell_type": "code",
   "execution_count": 45,
   "id": "9ea3bcc7",
   "metadata": {},
   "outputs": [],
   "source": [
    "def poisson_proba(k: int, lambda_ : float):\n",
    "    return (lambda_ ** k) * (np.exp(-lambda_)) / np.math.factorial(k)"
   ]
  },
  {
   "cell_type": "markdown",
   "id": "3e6acfc6",
   "metadata": {},
   "source": [
    "Решим задачу подбором"
   ]
  },
  {
   "cell_type": "markdown",
   "id": "9474f27f",
   "metadata": {},
   "source": [
    "Предположим, что N = 14"
   ]
  },
  {
   "cell_type": "code",
   "execution_count": 46,
   "id": "f5059506",
   "metadata": {},
   "outputs": [
    {
     "data": {
      "text/plain": [
       "0.9165415270653373"
      ]
     },
     "execution_count": 46,
     "metadata": {},
     "output_type": "execute_result"
    }
   ],
   "source": [
    "lambda_ = 10\n",
    "sum(poisson_proba(k = i,lambda_ = 10) for i in range(15))"
   ]
  },
  {
   "cell_type": "markdown",
   "id": "b6ef9ef6",
   "metadata": {},
   "source": [
    "Предположим, что N = 16"
   ]
  },
  {
   "cell_type": "code",
   "execution_count": 47,
   "id": "5936492f",
   "metadata": {},
   "outputs": [
    {
     "data": {
      "text/plain": [
       "0.972958390215199"
      ]
     },
     "execution_count": 47,
     "metadata": {},
     "output_type": "execute_result"
    }
   ],
   "source": [
    "sum(poisson_proba(k = i,lambda_ = 10) for i in range(17))"
   ]
  },
  {
   "cell_type": "markdown",
   "id": "8f4766ac",
   "metadata": {},
   "source": [
    "Предположим, что N = 15"
   ]
  },
  {
   "cell_type": "code",
   "execution_count": 48,
   "id": "0d22af4f",
   "metadata": {},
   "outputs": [
    {
     "data": {
      "text/plain": [
       "0.9512595966960214"
      ]
     },
     "execution_count": 48,
     "metadata": {},
     "output_type": "execute_result"
    }
   ],
   "source": [
    "sum(poisson_proba(k = i,lambda_ = 10) for i in range(16))"
   ]
  },
  {
   "cell_type": "markdown",
   "id": "13346159",
   "metadata": {},
   "source": [
    "Ответ: 15 писем"
   ]
  },
  {
   "cell_type": "code",
   "execution_count": null,
   "id": "249648d4",
   "metadata": {},
   "outputs": [],
   "source": []
  },
  {
   "cell_type": "markdown",
   "id": "cd315297",
   "metadata": {},
   "source": [
    "Задача 4\n",
    "Производятся выстрелы по мишени. Вероятность попадания в мишень при одном выстреле равна 0.01. Сколько выстрелов нужно сделать чтобы быть уверенным с вероятностью 0.9, что хотя бы 6 раз будет совершено попадание?\n",
    "\n",
    "Подсказка: 1) \"Вероятность попасть k раз при n выстрелах\" - на какое распределение это похоже? 2) А если нам нужна вероятность P(X >= k), а не P(X = k)? 3) Здесь предстоит немножко покодить."
   ]
  },
  {
   "cell_type": "markdown",
   "id": "22f812af",
   "metadata": {},
   "source": [
    "Распределение Бернулли. Используем формулу для вычисления вероятности при p = 0.01. При этом суммируем все вероятности попаданий от k = 6 до общего числа выстрелов n"
   ]
  },
  {
   "cell_type": "code",
   "execution_count": 103,
   "id": "8ee1c1ef",
   "metadata": {},
   "outputs": [],
   "source": [
    "def bernulli_obr(n,k,p):\n",
    "    return 1 - sum(bernulli(n,i,p) for i in range(k))"
   ]
  },
  {
   "cell_type": "code",
   "execution_count": 104,
   "id": "177aded1",
   "metadata": {},
   "outputs": [
    {
     "name": "stdout",
     "output_type": "stream",
     "text": [
      "0.9003627121531355 926\n"
     ]
    }
   ],
   "source": [
    "P=0\n",
    "k = 6\n",
    "n = 6\n",
    "p = 0.01\n",
    "while P < 0.9:\n",
    "    n += 1\n",
    "    P = bernulli_obr(n,k,p)\n",
    "print(P, n)"
   ]
  },
  {
   "cell_type": "markdown",
   "id": "caf18da0",
   "metadata": {},
   "source": [
    "926 выстрелов"
   ]
  }
 ],
 "metadata": {
  "kernelspec": {
   "display_name": "Python 3 (ipykernel)",
   "language": "python",
   "name": "python3"
  },
  "language_info": {
   "codemirror_mode": {
    "name": "ipython",
    "version": 3
   },
   "file_extension": ".py",
   "mimetype": "text/x-python",
   "name": "python",
   "nbconvert_exporter": "python",
   "pygments_lexer": "ipython3",
   "version": "3.9.7"
  }
 },
 "nbformat": 4,
 "nbformat_minor": 5
}
